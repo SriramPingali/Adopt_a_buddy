{
 "cells": [
  {
   "cell_type": "markdown",
   "metadata": {},
   "source": [
    "# Setup"
   ]
  },
  {
   "cell_type": "code",
   "execution_count": 1,
   "metadata": {},
   "outputs": [],
   "source": [
    "import torch\n",
    "import numpy as np\n",
    "import pandas as pd\n",
    "import torch.nn as nn\n",
    "import torch.optim as optim\n",
    "import matplotlib.pyplot as plt\n",
    "import torch.nn.functional as F\n",
    "from tqdm import tqdm_notebook\n",
    "from sklearn.metrics import accuracy_score\n",
    "from sklearn.preprocessing import OneHotEncoder\n",
    "from sklearn.metrics import f1_score, cohen_kappa_score\n",
    "from sklearn.metrics import confusion_matrix\n",
    "from sklearn.model_selection import train_test_split"
   ]
  },
  {
   "cell_type": "markdown",
   "metadata": {},
   "source": [
    "# Import Data"
   ]
  },
  {
   "cell_type": "code",
   "execution_count": 2,
   "metadata": {},
   "outputs": [],
   "source": [
    "impt_data = pd.read_csv(\"train.csv\")\n",
    "test_data = pd.read_csv(\"test.csv\")"
   ]
  },
  {
   "cell_type": "code",
   "execution_count": 3,
   "metadata": {},
   "outputs": [
    {
     "data": {
      "text/html": [
       "<div>\n",
       "<style scoped>\n",
       "    .dataframe tbody tr th:only-of-type {\n",
       "        vertical-align: middle;\n",
       "    }\n",
       "\n",
       "    .dataframe tbody tr th {\n",
       "        vertical-align: top;\n",
       "    }\n",
       "\n",
       "    .dataframe thead th {\n",
       "        text-align: right;\n",
       "    }\n",
       "</style>\n",
       "<table border=\"1\" class=\"dataframe\">\n",
       "  <thead>\n",
       "    <tr style=\"text-align: right;\">\n",
       "      <th></th>\n",
       "      <th>duration</th>\n",
       "      <th>wage-increase-first-year</th>\n",
       "      <th>wage-increase-second-year</th>\n",
       "      <th>wage-increase-third-year</th>\n",
       "      <th>cost-of-living-adjustment</th>\n",
       "      <th>working-hours</th>\n",
       "      <th>pension</th>\n",
       "      <th>standby-pay</th>\n",
       "      <th>shift-differential</th>\n",
       "      <th>education-allowance</th>\n",
       "      <th>statutory-holidays</th>\n",
       "      <th>vacation</th>\n",
       "      <th>longterm-disability-assistance</th>\n",
       "      <th>contribution-to-dental-plan</th>\n",
       "      <th>bereavement-assistance</th>\n",
       "      <th>contribution-to-health-plan</th>\n",
       "      <th>class</th>\n",
       "    </tr>\n",
       "  </thead>\n",
       "  <tbody>\n",
       "    <tr>\n",
       "      <th>0</th>\n",
       "      <td>3</td>\n",
       "      <td>3.597483</td>\n",
       "      <td>4.000000</td>\n",
       "      <td>5.000000</td>\n",
       "      <td>0</td>\n",
       "      <td>40.000000</td>\n",
       "      <td>2</td>\n",
       "      <td>8.32238</td>\n",
       "      <td>3.000000</td>\n",
       "      <td>0</td>\n",
       "      <td>11.000000</td>\n",
       "      <td>0</td>\n",
       "      <td>1</td>\n",
       "      <td>1</td>\n",
       "      <td>1</td>\n",
       "      <td>2</td>\n",
       "      <td>1</td>\n",
       "    </tr>\n",
       "    <tr>\n",
       "      <th>1</th>\n",
       "      <td>3</td>\n",
       "      <td>3.968619</td>\n",
       "      <td>4.000000</td>\n",
       "      <td>5.100000</td>\n",
       "      <td>1</td>\n",
       "      <td>40.000000</td>\n",
       "      <td>2</td>\n",
       "      <td>2.00000</td>\n",
       "      <td>3.000000</td>\n",
       "      <td>0</td>\n",
       "      <td>12.000000</td>\n",
       "      <td>1</td>\n",
       "      <td>1</td>\n",
       "      <td>2</td>\n",
       "      <td>1</td>\n",
       "      <td>2</td>\n",
       "      <td>1</td>\n",
       "    </tr>\n",
       "    <tr>\n",
       "      <th>2</th>\n",
       "      <td>2</td>\n",
       "      <td>6.328544</td>\n",
       "      <td>5.089680</td>\n",
       "      <td>5.000000</td>\n",
       "      <td>0</td>\n",
       "      <td>35.915468</td>\n",
       "      <td>2</td>\n",
       "      <td>2.00000</td>\n",
       "      <td>4.000000</td>\n",
       "      <td>0</td>\n",
       "      <td>12.000000</td>\n",
       "      <td>1</td>\n",
       "      <td>1</td>\n",
       "      <td>1</td>\n",
       "      <td>1</td>\n",
       "      <td>2</td>\n",
       "      <td>1</td>\n",
       "    </tr>\n",
       "    <tr>\n",
       "      <th>3</th>\n",
       "      <td>2</td>\n",
       "      <td>4.348288</td>\n",
       "      <td>5.336979</td>\n",
       "      <td>5.000000</td>\n",
       "      <td>0</td>\n",
       "      <td>37.651356</td>\n",
       "      <td>2</td>\n",
       "      <td>2.00000</td>\n",
       "      <td>3.000000</td>\n",
       "      <td>0</td>\n",
       "      <td>15.000000</td>\n",
       "      <td>1</td>\n",
       "      <td>1</td>\n",
       "      <td>2</td>\n",
       "      <td>1</td>\n",
       "      <td>2</td>\n",
       "      <td>1</td>\n",
       "    </tr>\n",
       "    <tr>\n",
       "      <th>4</th>\n",
       "      <td>2</td>\n",
       "      <td>3.530789</td>\n",
       "      <td>2.892247</td>\n",
       "      <td>2.029438</td>\n",
       "      <td>0</td>\n",
       "      <td>40.000000</td>\n",
       "      <td>2</td>\n",
       "      <td>2.00000</td>\n",
       "      <td>4.000000</td>\n",
       "      <td>0</td>\n",
       "      <td>11.000000</td>\n",
       "      <td>1</td>\n",
       "      <td>1</td>\n",
       "      <td>1</td>\n",
       "      <td>1</td>\n",
       "      <td>2</td>\n",
       "      <td>1</td>\n",
       "    </tr>\n",
       "    <tr>\n",
       "      <th>...</th>\n",
       "      <td>...</td>\n",
       "      <td>...</td>\n",
       "      <td>...</td>\n",
       "      <td>...</td>\n",
       "      <td>...</td>\n",
       "      <td>...</td>\n",
       "      <td>...</td>\n",
       "      <td>...</td>\n",
       "      <td>...</td>\n",
       "      <td>...</td>\n",
       "      <td>...</td>\n",
       "      <td>...</td>\n",
       "      <td>...</td>\n",
       "      <td>...</td>\n",
       "      <td>...</td>\n",
       "      <td>...</td>\n",
       "      <td>...</td>\n",
       "    </tr>\n",
       "    <tr>\n",
       "      <th>31992</th>\n",
       "      <td>3</td>\n",
       "      <td>3.643214</td>\n",
       "      <td>4.000000</td>\n",
       "      <td>5.000000</td>\n",
       "      <td>0</td>\n",
       "      <td>40.000000</td>\n",
       "      <td>2</td>\n",
       "      <td>2.00000</td>\n",
       "      <td>3.000000</td>\n",
       "      <td>0</td>\n",
       "      <td>11.000000</td>\n",
       "      <td>2</td>\n",
       "      <td>1</td>\n",
       "      <td>1</td>\n",
       "      <td>1</td>\n",
       "      <td>2</td>\n",
       "      <td>1</td>\n",
       "    </tr>\n",
       "    <tr>\n",
       "      <th>31993</th>\n",
       "      <td>1</td>\n",
       "      <td>5.011365</td>\n",
       "      <td>4.496574</td>\n",
       "      <td>5.000000</td>\n",
       "      <td>0</td>\n",
       "      <td>40.000000</td>\n",
       "      <td>2</td>\n",
       "      <td>2.00000</td>\n",
       "      <td>13.019448</td>\n",
       "      <td>0</td>\n",
       "      <td>10.212379</td>\n",
       "      <td>2</td>\n",
       "      <td>1</td>\n",
       "      <td>1</td>\n",
       "      <td>1</td>\n",
       "      <td>2</td>\n",
       "      <td>1</td>\n",
       "    </tr>\n",
       "    <tr>\n",
       "      <th>31994</th>\n",
       "      <td>2</td>\n",
       "      <td>4.575417</td>\n",
       "      <td>4.000000</td>\n",
       "      <td>4.491264</td>\n",
       "      <td>1</td>\n",
       "      <td>36.308501</td>\n",
       "      <td>2</td>\n",
       "      <td>2.00000</td>\n",
       "      <td>4.000000</td>\n",
       "      <td>0</td>\n",
       "      <td>13.000000</td>\n",
       "      <td>0</td>\n",
       "      <td>1</td>\n",
       "      <td>2</td>\n",
       "      <td>1</td>\n",
       "      <td>2</td>\n",
       "      <td>1</td>\n",
       "    </tr>\n",
       "    <tr>\n",
       "      <th>31995</th>\n",
       "      <td>1</td>\n",
       "      <td>4.551185</td>\n",
       "      <td>3.162903</td>\n",
       "      <td>5.000000</td>\n",
       "      <td>2</td>\n",
       "      <td>40.000000</td>\n",
       "      <td>1</td>\n",
       "      <td>2.00000</td>\n",
       "      <td>4.000000</td>\n",
       "      <td>0</td>\n",
       "      <td>9.856604</td>\n",
       "      <td>0</td>\n",
       "      <td>1</td>\n",
       "      <td>0</td>\n",
       "      <td>1</td>\n",
       "      <td>0</td>\n",
       "      <td>0</td>\n",
       "    </tr>\n",
       "    <tr>\n",
       "      <th>31996</th>\n",
       "      <td>3</td>\n",
       "      <td>1.999972</td>\n",
       "      <td>2.151686</td>\n",
       "      <td>5.000000</td>\n",
       "      <td>2</td>\n",
       "      <td>37.857750</td>\n",
       "      <td>0</td>\n",
       "      <td>2.00000</td>\n",
       "      <td>1.622227</td>\n",
       "      <td>0</td>\n",
       "      <td>11.000000</td>\n",
       "      <td>1</td>\n",
       "      <td>1</td>\n",
       "      <td>1</td>\n",
       "      <td>1</td>\n",
       "      <td>2</td>\n",
       "      <td>0</td>\n",
       "    </tr>\n",
       "  </tbody>\n",
       "</table>\n",
       "<p>31997 rows × 17 columns</p>\n",
       "</div>"
      ],
      "text/plain": [
       "       duration  wage-increase-first-year  wage-increase-second-year  \\\n",
       "0             3                  3.597483                   4.000000   \n",
       "1             3                  3.968619                   4.000000   \n",
       "2             2                  6.328544                   5.089680   \n",
       "3             2                  4.348288                   5.336979   \n",
       "4             2                  3.530789                   2.892247   \n",
       "...         ...                       ...                        ...   \n",
       "31992         3                  3.643214                   4.000000   \n",
       "31993         1                  5.011365                   4.496574   \n",
       "31994         2                  4.575417                   4.000000   \n",
       "31995         1                  4.551185                   3.162903   \n",
       "31996         3                  1.999972                   2.151686   \n",
       "\n",
       "       wage-increase-third-year  cost-of-living-adjustment  working-hours  \\\n",
       "0                      5.000000                          0      40.000000   \n",
       "1                      5.100000                          1      40.000000   \n",
       "2                      5.000000                          0      35.915468   \n",
       "3                      5.000000                          0      37.651356   \n",
       "4                      2.029438                          0      40.000000   \n",
       "...                         ...                        ...            ...   \n",
       "31992                  5.000000                          0      40.000000   \n",
       "31993                  5.000000                          0      40.000000   \n",
       "31994                  4.491264                          1      36.308501   \n",
       "31995                  5.000000                          2      40.000000   \n",
       "31996                  5.000000                          2      37.857750   \n",
       "\n",
       "       pension  standby-pay  shift-differential  education-allowance  \\\n",
       "0            2      8.32238            3.000000                    0   \n",
       "1            2      2.00000            3.000000                    0   \n",
       "2            2      2.00000            4.000000                    0   \n",
       "3            2      2.00000            3.000000                    0   \n",
       "4            2      2.00000            4.000000                    0   \n",
       "...        ...          ...                 ...                  ...   \n",
       "31992        2      2.00000            3.000000                    0   \n",
       "31993        2      2.00000           13.019448                    0   \n",
       "31994        2      2.00000            4.000000                    0   \n",
       "31995        1      2.00000            4.000000                    0   \n",
       "31996        0      2.00000            1.622227                    0   \n",
       "\n",
       "       statutory-holidays  vacation  longterm-disability-assistance  \\\n",
       "0               11.000000         0                               1   \n",
       "1               12.000000         1                               1   \n",
       "2               12.000000         1                               1   \n",
       "3               15.000000         1                               1   \n",
       "4               11.000000         1                               1   \n",
       "...                   ...       ...                             ...   \n",
       "31992           11.000000         2                               1   \n",
       "31993           10.212379         2                               1   \n",
       "31994           13.000000         0                               1   \n",
       "31995            9.856604         0                               1   \n",
       "31996           11.000000         1                               1   \n",
       "\n",
       "       contribution-to-dental-plan  bereavement-assistance  \\\n",
       "0                                1                       1   \n",
       "1                                2                       1   \n",
       "2                                1                       1   \n",
       "3                                2                       1   \n",
       "4                                1                       1   \n",
       "...                            ...                     ...   \n",
       "31992                            1                       1   \n",
       "31993                            1                       1   \n",
       "31994                            2                       1   \n",
       "31995                            0                       1   \n",
       "31996                            1                       1   \n",
       "\n",
       "       contribution-to-health-plan  class  \n",
       "0                                2      1  \n",
       "1                                2      1  \n",
       "2                                2      1  \n",
       "3                                2      1  \n",
       "4                                2      1  \n",
       "...                            ...    ...  \n",
       "31992                            2      1  \n",
       "31993                            2      1  \n",
       "31994                            2      1  \n",
       "31995                            0      0  \n",
       "31996                            2      0  \n",
       "\n",
       "[31997 rows x 17 columns]"
      ]
     },
     "execution_count": 3,
     "metadata": {},
     "output_type": "execute_result"
    }
   ],
   "source": [
    "impt_data"
   ]
  },
  {
   "cell_type": "code",
   "execution_count": 4,
   "metadata": {},
   "outputs": [],
   "source": [
    "labels_pd = impt_data.pop(\"class\")\n",
    "labels_test_pd = test_data"
   ]
  },
  {
   "cell_type": "code",
   "execution_count": 5,
   "metadata": {},
   "outputs": [],
   "source": [
    "# include_columns = [\"CO_GT\", \"PT08_S1_CO\", \"PT08_S2_NMHC\"]\n",
    "data_pd = impt_data#[include_columns]\n",
    "data_test_pd = test_data#[include_columns]"
   ]
  },
  {
   "cell_type": "code",
   "execution_count": 6,
   "metadata": {},
   "outputs": [
    {
     "name": "stdout",
     "output_type": "stream",
     "text": [
      "(31997, 16)\n",
      "(8000, 16)\n"
     ]
    }
   ],
   "source": [
    "data = data_pd.to_numpy()\n",
    "labels = labels_pd.to_numpy()\n",
    "X_test = data_test_pd.to_numpy()\n",
    "# Y_test = labels_test_pd.to_numpy()\n",
    "print(data.shape)\n",
    "print(X_test.shape)"
   ]
  },
  {
   "cell_type": "markdown",
   "metadata": {},
   "source": [
    "# Train Test Split"
   ]
  },
  {
   "cell_type": "code",
   "execution_count": 7,
   "metadata": {},
   "outputs": [],
   "source": [
    "X_train, X_val, Y_train, Y_val = train_test_split(data, labels, stratify = labels, random_state = 0, test_size = 0.3)"
   ]
  },
  {
   "cell_type": "code",
   "execution_count": 8,
   "metadata": {},
   "outputs": [
    {
     "name": "stderr",
     "output_type": "stream",
     "text": [
      "C:\\Users\\Sriram Pingali\\Anaconda3\\lib\\site-packages\\sklearn\\preprocessing\\_encoders.py:415: FutureWarning: The handling of integer data will change in version 0.22. Currently, the categories are determined based on the range [0, max(values)], while in the future they will be determined based on the unique values.\n",
      "If you want the future behaviour and silence this warning, you can specify \"categories='auto'\".\n",
      "In case you used a LabelEncoder before this OneHotEncoder to convert the categories to integers, then you can now use the OneHotEncoder directly.\n",
      "  warnings.warn(msg, FutureWarning)\n"
     ]
    }
   ],
   "source": [
    "enc = OneHotEncoder()\n",
    "Y_OH_train = enc.fit_transform(np.expand_dims(Y_train, 1)).toarray()\n",
    "Y_OH_val = enc.transform(np.expand_dims(Y_val, 1)).toarray()"
   ]
  },
  {
   "cell_type": "code",
   "execution_count": 9,
   "metadata": {},
   "outputs": [],
   "source": [
    "X_train, Y_OH_train, X_val, Y_OH_val, X_test = map(torch.tensor, (X_train, Y_OH_train, X_val, Y_OH_val, X_test))"
   ]
  },
  {
   "cell_type": "code",
   "execution_count": 10,
   "metadata": {},
   "outputs": [],
   "source": [
    "X_train, X_val, X_test = X_train.float(), X_val.float(), X_test.float()"
   ]
  },
  {
   "cell_type": "markdown",
   "metadata": {},
   "source": [
    "# Cuda Support"
   ]
  },
  {
   "cell_type": "code",
   "execution_count": 11,
   "metadata": {},
   "outputs": [],
   "source": [
    "device = torch.device(\"cuda\" if torch.cuda.is_available() else \"cpu\")\n",
    "\n",
    "X_train = X_train.to(device)\n",
    "X_val = X_val.to(device)\n",
    "X_test  = X_test.to(device)\n",
    "Y_OH_train = Y_OH_train.to(device)\n",
    "Y_OH_val = Y_OH_val.to(device)"
   ]
  },
  {
   "cell_type": "markdown",
   "metadata": {},
   "source": [
    "# FF Network"
   ]
  },
  {
   "cell_type": "code",
   "execution_count": 12,
   "metadata": {},
   "outputs": [],
   "source": [
    "class FF_Network(nn.Module):\n",
    "    def __init__(self):\n",
    "        super().__init__()\n",
    "        torch.manual_seed(0)\n",
    "        self.net = nn.Sequential(\n",
    "            nn.Linear(16, 55),\n",
    "#             nn.BatchNorm1d(55),\n",
    "            nn.ReLU(),\n",
    "            nn.Linear(55,40),\n",
    "#             nn.BatchNorm1d(40),\n",
    "            nn.ReLU(), \n",
    "            nn.Linear(40, 2),\n",
    "        )\n",
    "           \n",
    "    def forward(self, X):\n",
    "        return(self.net(X))"
   ]
  },
  {
   "cell_type": "code",
   "execution_count": 13,
   "metadata": {},
   "outputs": [],
   "source": [
    "ff_n = FF_Network()\n",
    "ff_n = ff_n.to(device)\n",
    "loss_fn = nn.CrossEntropyLoss()"
   ]
  },
  {
   "cell_type": "code",
   "execution_count": 14,
   "metadata": {},
   "outputs": [],
   "source": [
    "def accuracy(Y_hat, Y):\n",
    "    accuracy = accuracy_score(np.argmax(Y_hat.cpu().detach().numpy(), 1), np.argmax(Y.cpu().detach().numpy(), 1))\n",
    "    f1_scr = f1_score(np.argmax(Y_hat.cpu().detach().numpy(), 1), np.argmax(Y.cpu().detach().numpy(), 1), average='macro')\n",
    "    kappa = cohen_kappa_score(np.argmax(Y_hat.cpu().detach().numpy(), 1), np.argmax(Y.cpu().detach().numpy(), 1))\n",
    "    return(accuracy, f1_scr, kappa)"
   ]
  },
  {
   "cell_type": "code",
   "execution_count": 15,
   "metadata": {},
   "outputs": [],
   "source": [
    "def train(X, Y, model, loss_fn = loss_fn, lr = 0.02, epochs = 2500, batch_size = 512):\n",
    "    loss_b = []\n",
    "    acc_b = []\n",
    "    acc = 0\n",
    "    optm = optim.Adam(ff_n.parameters(), lr = lr)\n",
    "    Y_temp = Y.to('cpu')\n",
    "    Y = np.argmax(Y_temp, 1)\n",
    "    Y = Y.to(device)\n",
    "    for i in tqdm_notebook(range(epochs)):\n",
    "        for i in range(X.shape[0] // batch_size):\n",
    "            local_X, local_Y, local_y_temp = X[i*batch_size:(i+1)*batch_size,], Y[i*batch_size:(i+1)*batch_size,], Y_temp[i*batch_size:(i+1)*batch_size,]\n",
    "            Y_hat = model.forward(local_X)\n",
    "            loss = loss_fn(Y_hat, local_Y)\n",
    "            acc, _, _ = accuracy(Y_hat, local_y_temp)\n",
    "            loss_b.append(loss.item())\n",
    "            acc_b.append(acc)\n",
    "            loss.backward()\n",
    "            optm.step()\n",
    "            optm.zero_grad()\n",
    "    return(loss_b, acc_b, acc)"
   ]
  },
  {
   "cell_type": "code",
   "execution_count": 29,
   "metadata": {},
   "outputs": [
    {
     "data": {
      "application/vnd.jupyter.widget-view+json": {
       "model_id": "0dd482412976481caa75ed4761806820",
       "version_major": 2,
       "version_minor": 0
      },
      "text/plain": [
       "HBox(children=(IntProgress(value=0, max=600), HTML(value='')))"
      ]
     },
     "metadata": {},
     "output_type": "display_data"
    },
    {
     "name": "stdout",
     "output_type": "stream",
     "text": [
      "\n",
      "Wall time: 1min 20s\n"
     ]
    }
   ],
   "source": [
    "%%time\n",
    "loss_b, acc_b, acc_score = train(X_train, Y_OH_train, ff_n, loss_fn, lr = 0.002, epochs = 600, batch_size = 4096)"
   ]
  },
  {
   "cell_type": "code",
   "execution_count": 30,
   "metadata": {},
   "outputs": [
    {
     "data": {
      "text/plain": [
       "Text(0, 0.5, 'acc')"
      ]
     },
     "execution_count": 30,
     "metadata": {},
     "output_type": "execute_result"
    },
    {
     "data": {
      "image/png": "[encoded data removed]",
      "text/plain": [
       "<Figure size 1152x576 with 2 Axes>"
      ]
     },
     "metadata": {
      "needs_background": "light"
     },
     "output_type": "display_data"
    }
   ],
   "source": [
    "fig = plt.figure(figsize = (16, 8))\n",
    "ax1 = fig.add_subplot(121)\n",
    "ax2 = fig.add_subplot(122)\n",
    "ax1.plot(loss_b)\n",
    "ax1.set_xlabel('time progress')\n",
    "ax1.set_ylabel('loss')\n",
    "ax2.plot(acc_b)\n",
    "ax2.set_xlabel('time_progress')\n",
    "ax2.set_ylabel('acc')"
   ]
  },
  {
   "cell_type": "code",
   "execution_count": 31,
   "metadata": {},
   "outputs": [
    {
     "name": "stdout",
     "output_type": "stream",
     "text": [
      "Train set accuracy, f1 score:  (0.9566459793722374, 0.9520206338732524, 0.9040473138555051) \n",
      "Validation set accuracy, f1 score:  (0.9557291666666666, 0.9508989103758173, 0.9018103571012915)\n"
     ]
    }
   ],
   "source": [
    "# ff_n.eval()\n",
    "print(\"Train set accuracy, f1 score: \", accuracy(ff_n.forward(X_train), Y_OH_train), \"\\nValidation set accuracy, f1 score: \", accuracy(ff_n.forward(X_val), Y_OH_val))#, \"\\nTest set accuracy, f1 score: \", accuracy(ff_n.forward(X_test), Y_OH_test))"
   ]
  },
  {
   "cell_type": "markdown",
   "metadata": {},
   "source": [
    "# Visual Evaluation"
   ]
  },
  {
   "cell_type": "code",
   "execution_count": 32,
   "metadata": {},
   "outputs": [
    {
     "name": "stdout",
     "output_type": "stream",
     "text": [
      "[[3082  264]\n",
      " [ 161 6093]]\n"
     ]
    },
    {
     "data": {
      "text/plain": [
       "<matplotlib.image.AxesImage at 0x1bf923d13c8>"
      ]
     },
     "execution_count": 32,
     "metadata": {},
     "output_type": "execute_result"
    },
    {
     "data": {
      "image/png": "[encoded data removed]",
      "text/plain": [
       "<Figure size 432x288 with 1 Axes>"
      ]
     },
     "metadata": {
      "needs_background": "light"
     },
     "output_type": "display_data"
    }
   ],
   "source": [
    "cm = confusion_matrix(np.argmax(Y_OH_val.to('cpu').detach().numpy(), 1), np.argmax(ff_n(X_val).to('cpu').detach().numpy(), 1))\n",
    "print(cm)\n",
    "plt.imshow(cm, cmap='binary')"
   ]
  },
  {
   "cell_type": "code",
   "execution_count": 33,
   "metadata": {},
   "outputs": [
    {
     "name": "stdout",
     "output_type": "stream",
     "text": [
      "[[ 7236   570]\n",
      " [  401 14190]]\n"
     ]
    },
    {
     "data": {
      "text/plain": [
       "<matplotlib.image.AxesImage at 0x1bf9241b7b8>"
      ]
     },
     "execution_count": 33,
     "metadata": {},
     "output_type": "execute_result"
    },
    {
     "data": {
      "image/png": "[encoded data removed]",
      "text/plain": [
       "<Figure size 432x288 with 1 Axes>"
      ]
     },
     "metadata": {
      "needs_background": "light"
     },
     "output_type": "display_data"
    }
   ],
   "source": [
    "cm = confusion_matrix(np.argmax(Y_OH_train.to('cpu').detach().numpy(), 1), np.argmax(ff_n(X_train).to('cpu').detach().numpy(), 1))\n",
    "print(cm)\n",
    "plt.imshow(cm, cmap='binary')"
   ]
  },
  {
   "cell_type": "markdown",
   "metadata": {},
   "source": [
    "# Saving Model"
   ]
  },
  {
   "cell_type": "code",
   "execution_count": 21,
   "metadata": {},
   "outputs": [],
   "source": [
    "torch.save(ff_n.state_dict(), './weights')"
   ]
  },
  {
   "cell_type": "code",
   "execution_count": 22,
   "metadata": {},
   "outputs": [
    {
     "data": {
      "text/plain": [
       "FF_Network(\n",
       "  (net): Sequential(\n",
       "    (0): Linear(in_features=16, out_features=55, bias=True)\n",
       "    (1): ReLU()\n",
       "    (2): Linear(in_features=55, out_features=40, bias=True)\n",
       "    (3): ReLU()\n",
       "    (4): Linear(in_features=40, out_features=2, bias=True)\n",
       "  )\n",
       ")"
      ]
     },
     "execution_count": 22,
     "metadata": {},
     "output_type": "execute_result"
    }
   ],
   "source": [
    "model = FF_Network()\n",
    "model.load_state_dict(torch.load('./weights'))\n",
    "model.eval()\n",
    "model.to(device)"
   ]
  },
  {
   "cell_type": "code",
   "execution_count": 23,
   "metadata": {},
   "outputs": [],
   "source": [
    "Y_test_pred = model.forward(X_test)"
   ]
  },
  {
   "cell_type": "code",
   "execution_count": 24,
   "metadata": {},
   "outputs": [
    {
     "name": "stdout",
     "output_type": "stream",
     "text": [
      "Train set Accuracy, F1 score, Cohen's Kappa:  (0.9577622002946823, 0.9532257569437874, 0.9064589686728283) \n",
      "Validation set Accuracy, F1 score, Cohens Kappa:  (0.9541666666666667, 0.9491474884637996, 0.8983092565732569)\n"
     ]
    }
   ],
   "source": [
    "print(\"Train set Accuracy, F1 score, Cohen's Kappa: \", accuracy(model.forward(X_train), Y_OH_train), \"\\nValidation set Accuracy, F1 score, Cohens Kappa: \", accuracy(model.forward(X_val), Y_OH_val))"
   ]
  },
  {
   "cell_type": "code",
   "execution_count": 25,
   "metadata": {},
   "outputs": [],
   "source": [
    "import csv\n",
    "\n",
    "with open('submission.csv', 'w', newline='') as file:\n",
    "    with open('test.csv', 'r') as inp:\n",
    "        writer = csv.writer(file)\n",
    "        reader = csv.reader(inp)\n",
    "        heading = next(reader)\n",
    "        heading.append(\"class\")\n",
    "        writer.writerow(['class'])\n",
    "        for i, row in enumerate(reader):\n",
    "            writer.writerow([np.argmax(Y_test_pred.to('cpu').detach().numpy(), 1)[i]])"
   ]
  },
  {
   "cell_type": "code",
   "execution_count": null,
   "metadata": {},
   "outputs": [],
   "source": []
  }
 ],
 "metadata": {
  "kernelspec": {
   "display_name": "Python 3",
   "language": "python",
   "name": "python3"
  },
  "language_info": {
   "codemirror_mode": {
    "name": "ipython",
    "version": 3
   },
   "file_extension": ".py",
   "mimetype": "text/x-python",
   "name": "python",
   "nbconvert_exporter": "python",
   "pygments_lexer": "ipython3",
   "version": "3.6.8"
  }
 },
 "nbformat": 4,
 "nbformat_minor": 2
}
