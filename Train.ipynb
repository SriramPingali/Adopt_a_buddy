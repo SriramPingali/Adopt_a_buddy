{
 "cells": [
  {
   "cell_type": "markdown",
   "metadata": {},
   "source": [
    "# Setup"
   ]
  },
  {
   "cell_type": "code",
   "execution_count": 1,
   "metadata": {},
   "outputs": [],
   "source": [
    "import torch\n",
    "import numpy as np\n",
    "import pandas as pd\n",
    "import torch.nn as nn\n",
    "import torch.optim as optim\n",
    "from tqdm import tqdm_notebook\n",
    "import matplotlib.pyplot as plt\n",
    "import torch.nn.functional as F\n",
    "from sklearn.model_selection import train_test_split\n",
    "from sklearn.preprocessing import OneHotEncoder, LabelEncoder\n",
    "from sklearn.metrics import f1_score, cohen_kappa_score, accuracy_score, confusion_matrix"
   ]
  },
  {
   "cell_type": "markdown",
   "metadata": {},
   "source": [
    "# Import Data"
   ]
  },
  {
   "cell_type": "code",
   "execution_count": 2,
   "metadata": {},
   "outputs": [],
   "source": [
    "impt_data = pd.read_csv(\"train.csv\")\n",
    "test_data = pd.read_csv(\"test.csv\")"
   ]
  },
  {
   "cell_type": "code",
   "execution_count": 3,
   "metadata": {},
   "outputs": [],
   "source": [
    "import datetime\n",
    "\n",
    "def d2(time_date):\n",
    "    return(datetime.datetime.strptime(time_date, '%Y-%m-%d %H:%M:%S'))\n",
    "\n",
    "def d1(time_date):\n",
    "    return(datetime.datetime.strptime(time_date, '%Y-%m-%d %H:%M:%S'))"
   ]
  },
  {
   "cell_type": "code",
   "execution_count": 4,
   "metadata": {},
   "outputs": [],
   "source": [
    "differences = [d2(time_date_1) - d1(time_date_2) for time_date_1, time_date_2 in zip(impt_data['listing_date'], impt_data['issue_date'])]\n",
    "time_diff_col = pd.Series([(difference.days + difference.seconds/86400)/365.2425 for difference in differences]) "
   ]
  },
  {
   "cell_type": "code",
   "execution_count": 5,
   "metadata": {},
   "outputs": [],
   "source": [
    "differences = [d2(time_date_1) - d1(time_date_2) for time_date_1, time_date_2 in zip(test_data['listing_date'], test_data['issue_date'])]\n",
    "time_diff_col_test = pd.Series([(difference.days + difference.seconds/86400)/365.2425 for difference in differences]) "
   ]
  },
  {
   "cell_type": "code",
   "execution_count": 6,
   "metadata": {},
   "outputs": [],
   "source": [
    "impt_data[\"year_diff\"] = time_diff_col\n",
    "test_data[\"year_diff\"] = time_diff_col_test"
   ]
  },
  {
   "cell_type": "markdown",
   "metadata": {},
   "source": [
    "# Pre Processing"
   ]
  },
  {
   "cell_type": "code",
   "execution_count": 7,
   "metadata": {},
   "outputs": [],
   "source": [
    "impt_data.fillna(2, inplace = True)\n",
    "test_data.fillna(2, inplace = True)"
   ]
  },
  {
   "cell_type": "code",
   "execution_count": 8,
   "metadata": {},
   "outputs": [],
   "source": [
    "bc_labels_pd = impt_data.pop(\"breed_category\")\n",
    "pc_labels_pd = impt_data.pop(\"pet_category\")"
   ]
  },
  {
   "cell_type": "code",
   "execution_count": 9,
   "metadata": {},
   "outputs": [],
   "source": [
    "include_columns = [\"condition\", \"color_type\", \"length(m)\", \"height(cm)\", \"X1\", \"X2\", \"year_diff\"]\n",
    "data_pd = impt_data[include_columns]\n",
    "data_test_pd = test_data[include_columns]"
   ]
  },
  {
   "cell_type": "code",
   "execution_count": 10,
   "metadata": {},
   "outputs": [],
   "source": [
    "# turn X into dict\n",
    "data_dict = data_pd.to_dict(orient='records') # turn each row as key-value pairs\n",
    "data_test_dict = data_test_pd.to_dict(orient='records') # turn each row as key-value pairs"
   ]
  },
  {
   "cell_type": "code",
   "execution_count": 11,
   "metadata": {},
   "outputs": [
    {
     "data": {
      "text/plain": [
       "array([[ 0.        ,  7.        ,  0.        , ..., 42.73      ,\n",
       "         0.87      , 12.0595202 ],\n",
       "       [ 0.        ,  1.        ,  0.        , ...,  6.71      ,\n",
       "         0.06      ,  0.4783808 ],\n",
       "       [ 0.        ,  7.        ,  0.        , ..., 41.21      ,\n",
       "         0.24      ,  5.47499835],\n",
       "       ...,\n",
       "       [ 0.        ,  7.        ,  0.        , ..., 37.19      ,\n",
       "         0.98      ,  1.07797293],\n",
       "       [ 0.        ,  2.        ,  0.        , ..., 23.83      ,\n",
       "         0.79      ,  1.06165957],\n",
       "       [ 0.        ,  1.        ,  0.        , ..., 24.51      ,\n",
       "         0.64      ,  1.07517418]])"
      ]
     },
     "execution_count": 11,
     "metadata": {},
     "output_type": "execute_result"
    }
   ],
   "source": [
    "# DictVectorizer\n",
    "from sklearn.feature_extraction import DictVectorizer\n",
    "# instantiate a Dictvectorizer object for X\n",
    "dv_X = DictVectorizer(sparse=False) \n",
    "# sparse = False makes the output is not a sparse matrix\n",
    "\n",
    "# apply dv_X on X_dict\n",
    "data = dv_X.fit_transform(data_dict)\n",
    "X_test = dv_X.transform(data_test_dict)\n",
    "# show X_encoded\n",
    "X_test"
   ]
  },
  {
   "cell_type": "code",
   "execution_count": 12,
   "metadata": {},
   "outputs": [],
   "source": [
    "# # Categorical boolean mask\n",
    "# categorical_feature_mask = data_pd.dtypes==object\n",
    "\n",
    "# # filter categorical columns using mask and turn it into a list\n",
    "# categorical_cols = data_pd.columns[categorical_feature_mask].tolist()"
   ]
  },
  {
   "cell_type": "code",
   "execution_count": 13,
   "metadata": {},
   "outputs": [],
   "source": [
    "# # instantiate labelencoder object\n",
    "# le = LabelEncoder()\n",
    "\n",
    "# # apply le on categorical feature columns\n",
    "# data_pd[categorical_cols] = data_pd[categorical_cols].apply(lambda col: le.fit_transform(col))\n",
    "# data_pd[categorical_cols].head(10)\n",
    "\n",
    "# data_test_pd[categorical_cols] = data_test_pd[categorical_cols].apply(lambda col: le.fit_transform(col))\n",
    "# data_test_pd[categorical_cols].head(10)"
   ]
  },
  {
   "cell_type": "code",
   "execution_count": 14,
   "metadata": {},
   "outputs": [
    {
     "name": "stdout",
     "output_type": "stream",
     "text": [
      "(18834, 62)\n",
      "(8072, 62)\n",
      "(18834,)\n"
     ]
    }
   ],
   "source": [
    "# data = data_pd.to_numpy()\n",
    "# X_test = data_test_pd.to_numpy()\n",
    "bc_labels = bc_labels_pd.to_numpy()\n",
    "pc_labels = pc_labels_pd.to_numpy()\n",
    "labels = np.stack((bc_labels, pc_labels), axis = -1)\n",
    "print(data.shape)\n",
    "print(X_test.shape)\n",
    "print(pc_labels.shape)"
   ]
  },
  {
   "cell_type": "markdown",
   "metadata": {},
   "source": [
    "# Accuracy Score"
   ]
  },
  {
   "cell_type": "code",
   "execution_count": 15,
   "metadata": {},
   "outputs": [],
   "source": [
    "def accuracy(Y_hat, Y):\n",
    "    accuracy = accuracy_score(np.argmax(Y_hat.cpu().detach().numpy(), 1), np.argmax(Y.cpu().detach().numpy(), 1))\n",
    "    f1_scr = f1_score(np.argmax(Y_hat.cpu().detach().numpy(), 1), np.argmax(Y.cpu().detach().numpy(), 1), average='weighted')\n",
    "    kappa = cohen_kappa_score(np.argmax(Y_hat.cpu().detach().numpy(), 1), np.argmax(Y.cpu().detach().numpy(), 1))\n",
    "    return(accuracy, f1_scr, kappa)"
   ]
  },
  {
   "cell_type": "code",
   "execution_count": 16,
   "metadata": {},
   "outputs": [],
   "source": [
    "def accuracy_ml(Y_hat, Y):\n",
    "    accuracy = accuracy_score(Y_hat, Y)\n",
    "    f1_scr = f1_score(Y_hat,Y, average='weighted')\n",
    "    kappa = cohen_kappa_score(Y_hat,Y)\n",
    "    return(accuracy, f1_scr, kappa)"
   ]
  },
  {
   "cell_type": "markdown",
   "metadata": {},
   "source": [
    "# Train Test Split"
   ]
  },
  {
   "cell_type": "code",
   "execution_count": 17,
   "metadata": {},
   "outputs": [],
   "source": [
    "X_train, X_val, Y_train, Y_val = train_test_split(data, bc_labels, random_state = 10, test_size = 0.4)"
   ]
  },
  {
   "cell_type": "code",
   "execution_count": 18,
   "metadata": {},
   "outputs": [
    {
     "name": "stderr",
     "output_type": "stream",
     "text": [
      "C:\\Users\\Sriram Pingali\\Anaconda3\\lib\\site-packages\\dask\\dataframe\\utils.py:13: FutureWarning: pandas.util.testing is deprecated. Use the functions in the public API at pandas.testing instead.\n",
      "  import pandas.util.testing as tm\n"
     ]
    },
    {
     "data": {
      "text/plain": [
       "XGBClassifier(alpha=0.5, base_score=0.5, booster='gbtree', colsample_bylevel=1,\n",
       "              colsample_bynode=1, colsample_bytree=1, eta=0.2, gamma=2,\n",
       "              gpu_id=-1, importance_type='gain', interaction_constraints='',\n",
       "              learning_rate=0.200000003, max_delta_step=0, max_depth=6,\n",
       "              min_child_weight=1, missing=nan, monotone_constraints='()',\n",
       "              n_estimators=100, n_jobs=-1, num_parallel_tree=1,\n",
       "              objective='multi:softprob', random_state=0, reg_alpha=0.5,\n",
       "              reg_lambda=0.6, sampling_method='gradient_based',\n",
       "              scale_pos_weight=None, subsample=1, tree_method='auto',\n",
       "              validate_parameters=1, verbosity=None)"
      ]
     },
     "execution_count": 18,
     "metadata": {},
     "output_type": "execute_result"
    }
   ],
   "source": [
    "# META CODE\n",
    "from sklearn.multiclass import OneVsRestClassifier\n",
    "from xgboost import XGBClassifier\n",
    "from sklearn.preprocessing import MultiLabelBinarizer\n",
    "\n",
    "# clf = OneVsRestClassifier(XGBClassifier(n_jobs=-1, max_depth=9))\n",
    "\n",
    "# # You may need to use MultiLabelBinarizer to encode your variables from arrays [[x, y, z]] to a multilabel \n",
    "# # format before training.\n",
    "# mlb = MultiLabelBinarizer()\n",
    "# # Y_OH_train = mlb.fit_transform(Y_train)\n",
    "\n",
    "clf = XGBClassifier(eta = 0.2, n_jobs=-1, max_depth=6, reg_lambda = 0.6, tree_method = \"auto\", alpha = 0.5,\n",
    "                   gamma = 2, sampling_method = \"gradient_based\")\n",
    "#                     colsample_bytree, colsample_bylevel, colsample_bynode)\n",
    "clf.fit(X_train, Y_train)\n",
    "\n",
    "# # META CODE\n",
    "# from sklearn.multiclass import OneVsRestClassifier\n",
    "# from xgboost import XGBClassifier\n",
    "# from sklearn.preprocessing import MultiLabelBinarizer\n",
    "\n",
    "# # clf = OneVsRestClassifier(XGBClassifier(n_jobs=-1, max_depth=9))\n",
    "\n",
    "# # # You may need to use MultiLabelBinarizer to encode your variables from arrays [[x, y, z]] to a multilabel \n",
    "# # # format before training.\n",
    "# # mlb = MultiLabelBinarizer()\n",
    "# # # Y_OH_train = mlb.fit_transform(Y_train)\n",
    "\n",
    "# clf = XGBClassifier(eta = 0.2, n_jobs=-1, max_depth=8, reg_lambda = 0.6, tree_method = \"auto\", alpha = 0.4,\n",
    "#                    gamma = 3, sampling_method = \"uniform\", n_estimators = 50)\n",
    "# #                     ,colsample_bytree = 0.9, colsample_bylevel = 0.9, colsample_bynode = 0.9)\n",
    "# clf.fit(X_train, Y_train)"
   ]
  },
  {
   "cell_type": "code",
   "execution_count": 19,
   "metadata": {},
   "outputs": [
    {
     "name": "stdout",
     "output_type": "stream",
     "text": [
      "(0.8932743362831859, 0.8934284454931333, 0.8116975429609282)\n",
      "(0.8709848685956995, 0.8708841114333103, 0.7737171207538635)\n"
     ]
    }
   ],
   "source": [
    "print(accuracy_ml(clf.predict(X_train), Y_train))\n",
    "print(accuracy_ml(clf.predict(X_val), Y_val))"
   ]
  },
  {
   "cell_type": "code",
   "execution_count": 20,
   "metadata": {},
   "outputs": [
    {
     "name": "stdout",
     "output_type": "stream",
     "text": [
      "[[3242  235   85]\n",
      " [ 425 2866   83]\n",
      " [  87   57  454]]\n"
     ]
    },
    {
     "data": {
      "text/plain": [
       "<matplotlib.image.AxesImage at 0x14a18358898>"
      ]
     },
     "execution_count": 20,
     "metadata": {},
     "output_type": "execute_result"
    },
    {
     "data": {
      "image/png": "[encoded data removed]",
      "text/plain": [
       "<Figure size 432x288 with 1 Axes>"
      ]
     },
     "metadata": {
      "needs_background": "light"
     },
     "output_type": "display_data"
    }
   ],
   "source": [
    "cm = confusion_matrix(Y_val, clf.predict(X_val))\n",
    "print(cm)\n",
    "plt.imshow(cm, cmap='binary')"
   ]
  },
  {
   "cell_type": "code",
   "execution_count": null,
   "metadata": {},
   "outputs": [],
   "source": [
    "enc = OneHotEncoder()\n",
    "Y_OH_train = enc.fit_transform(np.expand_dims(Y_train, 1)).toarray()\n",
    "Y_OH_val = enc.transform(np.expand_dims(Y_val, 1)).toarray()"
   ]
  },
  {
   "cell_type": "code",
   "execution_count": null,
   "metadata": {},
   "outputs": [],
   "source": [
    "X_train, Y_OH_train, X_val, Y_OH_val, X_test = map(torch.tensor, (X_train, Y_OH_train, X_val, Y_OH_val, X_test))"
   ]
  },
  {
   "cell_type": "code",
   "execution_count": null,
   "metadata": {},
   "outputs": [],
   "source": [
    "X_train, X_val, X_test = X_train.float(), X_val.float(), X_test.float()"
   ]
  },
  {
   "cell_type": "markdown",
   "metadata": {},
   "source": [
    "# Cuda Support"
   ]
  },
  {
   "cell_type": "code",
   "execution_count": null,
   "metadata": {},
   "outputs": [],
   "source": [
    "device = torch.device(\"cuda\" if torch.cuda.is_available() else \"cpu\")\n",
    "# device = 'cpu'\n",
    "\n",
    "X_train = X_train.to(device)\n",
    "X_val = X_val.to(device)\n",
    "X_test  = X_test.to(device)\n",
    "Y_OH_train = Y_OH_train.to(device)\n",
    "Y_OH_val = Y_OH_val.to(device)"
   ]
  },
  {
   "cell_type": "code",
   "execution_count": null,
   "metadata": {},
   "outputs": [],
   "source": [
    "Y_OH_train.shape"
   ]
  },
  {
   "cell_type": "markdown",
   "metadata": {},
   "source": [
    "# FF Network"
   ]
  },
  {
   "cell_type": "code",
   "execution_count": null,
   "metadata": {},
   "outputs": [],
   "source": [
    "class FF_Network(nn.Module):\n",
    "    def __init__(self):\n",
    "        super().__init__()\n",
    "        torch.manual_seed(0)\n",
    "        self.net = nn.Sequential(\n",
    "            nn.Linear(62, 256),\n",
    "            nn.BatchNorm1d(256),\n",
    "            nn.ReLU(),\n",
    "            nn.Dropout(),\n",
    "            \n",
    "            nn.Linear(256,128),\n",
    "            nn.BatchNorm1d(128),\n",
    "            nn.ReLU(),\n",
    "            nn.Dropout(),\n",
    "            \n",
    "            nn.Linear(128,512),\n",
    "            nn.BatchNorm1d(512),\n",
    "            nn.ReLU(),\n",
    "            \n",
    "            nn.Linear(512, 64),\n",
    "            nn.BatchNorm1d(64),\n",
    "            nn.Tanh(),\n",
    "            \n",
    "            nn.Linear(64, 16),\n",
    "            nn.BatchNorm1d(16),\n",
    "            nn.Tanh(),\n",
    "            \n",
    "            nn.Linear(16, 4)\n",
    "        )\n",
    "           \n",
    "    def forward(self, X):\n",
    "        return(self.net(X))"
   ]
  },
  {
   "cell_type": "code",
   "execution_count": null,
   "metadata": {},
   "outputs": [],
   "source": [
    "ff_n = FF_Network()\n",
    "ff_n = ff_n.to(device)\n",
    "loss_fn = nn.CrossEntropyLoss()"
   ]
  },
  {
   "cell_type": "code",
   "execution_count": null,
   "metadata": {},
   "outputs": [],
   "source": [
    "def train(X, Y, model, loss_fn = loss_fn, lr = 0.02, epochs = 2500, batch_size = 512):\n",
    "    loss_b = []\n",
    "    acc_b = []\n",
    "    acc = 0\n",
    "    optm = optim.Adam(ff_n.parameters(), lr = lr)\n",
    "    Y_temp = Y.to('cpu')\n",
    "    Y = np.argmax(Y_temp, 1)\n",
    "    Y = Y.to(device)\n",
    "    for i in tqdm_notebook(range(epochs)):\n",
    "        for i in range(X.shape[0] // batch_size):\n",
    "            local_X, local_Y, local_y_temp = X[i*batch_size:(i+1)*batch_size,], Y[i*batch_size:(i+1)*batch_size,], Y_temp[i*batch_size:(i+1)*batch_size,]\n",
    "            Y_hat = model.forward(local_X)\n",
    "            loss = loss_fn(Y_hat, local_Y)\n",
    "            acc, _, _ = accuracy(Y_hat, local_y_temp)\n",
    "            loss_b.append(loss.item())\n",
    "            acc_b.append(acc)\n",
    "            loss.backward()\n",
    "            optm.step()\n",
    "            optm.zero_grad()\n",
    "    return(loss_b, acc_b, acc)"
   ]
  },
  {
   "cell_type": "code",
   "execution_count": null,
   "metadata": {},
   "outputs": [],
   "source": [
    "%%time\n",
    "loss_b, acc_b, acc_score = train(X_train, Y_OH_train, ff_n, loss_fn, lr = 0.001, epochs = 2500, batch_size = 8192)"
   ]
  },
  {
   "cell_type": "code",
   "execution_count": null,
   "metadata": {},
   "outputs": [],
   "source": [
    "fig = plt.figure(figsize = (16, 8))\n",
    "ax1 = fig.add_subplot(121)\n",
    "ax2 = fig.add_subplot(122)\n",
    "ax1.plot(loss_b)\n",
    "ax1.set_xlabel('time progress')\n",
    "ax1.set_ylabel('loss')\n",
    "ax2.plot(acc_b)\n",
    "ax2.set_xlabel('time_progress')\n",
    "ax2.set_ylabel('acc')"
   ]
  },
  {
   "cell_type": "code",
   "execution_count": null,
   "metadata": {},
   "outputs": [],
   "source": [
    "acc_b"
   ]
  },
  {
   "cell_type": "code",
   "execution_count": null,
   "metadata": {},
   "outputs": [],
   "source": [
    "# ff_n.eval()\n",
    "print(\"Train set accuracy, f1 score, kappa: \", accuracy(ff_n.forward(X_train), Y_OH_train), \"\\nValidation set accuracy, f1 score: \", accuracy(ff_n.forward(X_val), Y_OH_val))#, \"\\nTest set accuracy, f1 score: \", accuracy(ff_n.forward(X_test), Y_OH_test))"
   ]
  },
  {
   "cell_type": "markdown",
   "metadata": {},
   "source": [
    "# Visual Evaluation"
   ]
  },
  {
   "cell_type": "code",
   "execution_count": null,
   "metadata": {},
   "outputs": [],
   "source": [
    "cm = confusion_matrix(np.argmax(Y_OH_val.to('cpu').detach().numpy(), 1), np.argmax(ff_n(X_val).to('cpu').detach().numpy(), 1))\n",
    "print(cm)\n",
    "plt.imshow(cm, cmap='binary')"
   ]
  },
  {
   "cell_type": "code",
   "execution_count": null,
   "metadata": {},
   "outputs": [],
   "source": [
    "cm = confusion_matrix(np.argmax(Y_OH_train.to('cpu').detach().numpy(), 1), np.argmax(ff_n(X_train).to('cpu').detach().numpy(), 1))\n",
    "print(cm)\n",
    "plt.imshow(cm, cmap='binary')"
   ]
  },
  {
   "cell_type": "markdown",
   "metadata": {},
   "source": [
    "# Saving Model"
   ]
  },
  {
   "cell_type": "code",
   "execution_count": null,
   "metadata": {},
   "outputs": [],
   "source": [
    "torch.save(ff_n.state_dict(), './weights')"
   ]
  },
  {
   "cell_type": "code",
   "execution_count": null,
   "metadata": {},
   "outputs": [],
   "source": [
    "model = FF_Network()\n",
    "model.load_state_dict(torch.load('./weights'))\n",
    "model.eval()\n",
    "model.to(device)"
   ]
  },
  {
   "cell_type": "code",
   "execution_count": null,
   "metadata": {},
   "outputs": [],
   "source": [
    "print(\"Train set Accuracy, F1 score, Cohen's Kappa: \", accuracy(model.forward(X_train), Y_OH_train), \"\\nValidation set Accuracy, F1 score, Cohens Kappa: \", accuracy(model.forward(X_val), Y_OH_val))"
   ]
  },
  {
   "cell_type": "code",
   "execution_count": null,
   "metadata": {},
   "outputs": [],
   "source": [
    "import csv\n",
    "Y_test_pred = clf.predict(X_test)\n",
    "# Y_test_pred = model.forward(X_test)\n",
    "\n",
    "with open('submission.csv', 'w', newline='') as file:\n",
    "    with open('test.csv', 'r') as inp:\n",
    "        writer = csv.writer(file)\n",
    "        reader = csv.reader(inp)\n",
    "        heading = next(reader)\n",
    "        heading.append(\"class\")\n",
    "        writer.writerow(['class'])\n",
    "        for i, row in enumerate(reader):\n",
    "            writer.writerow([Y_test_pred[i]])\n",
    "#             writer.writerow(enc.inverse_transform(Y_test_pred.to('cpu').detach().numpy())[i])"
   ]
  },
  {
   "cell_type": "code",
   "execution_count": null,
   "metadata": {},
   "outputs": [],
   "source": [
    "file.close()\n",
    "inp.close()"
   ]
  },
  {
   "cell_type": "code",
   "execution_count": null,
   "metadata": {},
   "outputs": [],
   "source": [
    "import os\n",
    "\n",
    "name = 'answer.csv'\n",
    "bakname = name + '.bak'\n",
    "os.rename(name, bakname)\n",
    "\n",
    "with open(bakname, 'rb') as csv_in, open(name, 'wb') as csv_out:\n",
    "    writer = csv.writer(csv_out)\n",
    "    for i, row in enumerate(csv.reader(csv_in)):\n",
    "        row[2] = enc.inverse_transform(Y_test_pred.to('cpu').detach().numpy())[i]\n",
    "        writer.writerow(row)"
   ]
  },
  {
   "cell_type": "code",
   "execution_count": null,
   "metadata": {},
   "outputs": [],
   "source": []
  }
 ],
 "metadata": {
  "kernelspec": {
   "display_name": "Python 3",
   "language": "python",
   "name": "python3"
  },
  "language_info": {
   "codemirror_mode": {
    "name": "ipython",
    "version": 3
   },
   "file_extension": ".py",
   "mimetype": "text/x-python",
   "name": "python",
   "nbconvert_exporter": "python",
   "pygments_lexer": "ipython3",
   "version": "3.6.8"
  }
 },
 "nbformat": 4,
 "nbformat_minor": 2
}
